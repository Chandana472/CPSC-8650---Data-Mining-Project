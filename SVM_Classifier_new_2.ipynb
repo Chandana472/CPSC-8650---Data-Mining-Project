{
  "cells": [
    {
      "cell_type": "code",
      "execution_count": 1,
      "metadata": {
        "colab": {
          "base_uri": "https://localhost:8080/"
        },
        "id": "fFONUv3Pnn3d",
        "outputId": "eed7e201-e890-460f-b436-eb2fcf4f9dd5"
      },
      "outputs": [
        {
          "output_type": "stream",
          "name": "stdout",
          "text": [
            "Mounted at /content/drive\n"
          ]
        }
      ],
      "source": [
        "\n",
        "\n",
        "from google.colab import drive\n",
        "drive.mount('/content/drive')\n"
      ]
    },
    {
      "cell_type": "code",
      "execution_count": 2,
      "metadata": {
        "id": "VHq6lrt8nsRR"
      },
      "outputs": [],
      "source": [
        "from IPython.display import clear_output as cls\n",
        "!pip install scipy nibabel\n",
        "cls()"
      ]
    },
    {
      "cell_type": "code",
      "execution_count": 3,
      "metadata": {
        "id": "QNe1udsjn2CI"
      },
      "outputs": [],
      "source": [
        "import os\n",
        "import numpy as np\n",
        "import tensorflow as tf\n",
        "\n",
        "# Data\n",
        "from glob import glob\n",
        "from tqdm import tqdm\n",
        "import nibabel as nib\n",
        "from scipy import ndimage\n",
        "\n",
        "# Data Visualization\n",
        "import matplotlib.pyplot as plt\n",
        "\n",
        "# Model\n",
        "from keras.models import Sequential\n",
        "from keras.layers import Layer, Conv3D, BatchNormalization, MaxPool3D, GlobalAveragePooling3D as GAP3D, Dense, Dropout, InputLayer\n",
        "\n",
        "# Optimizer\n",
        "from tensorflow.keras.optimizers import Adam\n",
        "from tensorflow.keras.optimizers.schedules import ExponentialDecay\n",
        "\n",
        "# Callbacks\n",
        "from tensorflow.keras.callbacks import EarlyStopping, ModelCheckpoint"
      ]
    },
    {
      "cell_type": "code",
      "execution_count": 4,
      "metadata": {
        "id": "gO48joa2n9N2"
      },
      "outputs": [],
      "source": [
        "root_path = \"/content/drive/MyDrive/n171_smwp1\""
      ]
    },
    {
      "cell_type": "code",
      "execution_count": 5,
      "metadata": {
        "id": "JwtQowqboBFi"
      },
      "outputs": [],
      "source": [
        "def load_nii(path):\n",
        "    '''The function takes the path and loads the respective NII file.'''\n",
        "    scan = nib.load(path)\n",
        "    scan = scan.get_fdata()\n",
        "    return scan"
      ]
    },
    {
      "cell_type": "code",
      "execution_count": 6,
      "metadata": {
        "id": "JVu1JPdPoECd"
      },
      "outputs": [],
      "source": [
        "Images = glob(root_path+ \"/*\")"
      ]
    },
    {
      "cell_type": "code",
      "execution_count": 15,
      "metadata": {
        "id": "nTNhM1ig8ct6"
      },
      "outputs": [],
      "source": [
        "def process_scan(scan, desired_dims=(60,60,40)):\n",
        "    '''The function takes in the scan and apply all the preprocessing steps.'''\n",
        "\n",
        "    # Define range for normalization\n",
        "    min, max = -1000, 400\n",
        "\n",
        "    # define the values\n",
        "    scan[scan < min] = min\n",
        "    scan[scan > max] = max\n",
        "\n",
        "    # normalize the images\n",
        "    norm_sc = (scan - min)/(max - min)\n",
        "    norm_sc = norm_sc.astype('float32')\n",
        "\n",
        "    # Resizing The Scan\n",
        "    curr_h, curr_w, curr_d = norm_sc.shape\n",
        "    result_h, result_w, result_d = desired_dims\n",
        "\n",
        "    # Use cubic spline interpolation to get results\n",
        "    h_f = result_h/curr_h\n",
        "    width_f = result_w/curr_w\n",
        "    d_f = result_d/curr_d\n",
        "\n",
        "    # resize the scan\n",
        "    resized_scan = ndimage.zoom(norm_sc, zoom=(h_f, width_f, d_f), order=3)\n",
        "\n",
        "\n",
        "    # convert the scan to single channel dimension\n",
        "    rt_scan = tf.expand_dims(resized_scan, axis=-1)\n",
        "\n",
        "    # Return the final Scan\n",
        "    return rt_scan"
      ]
    },
    {
      "cell_type": "code",
      "source": [
        "scan_output = [process_scan(load_nii(img)) for img in Images]"
      ],
      "metadata": {
        "id": "LI3JmZ2PtdDp"
      },
      "execution_count": 16,
      "outputs": []
    },
    {
      "cell_type": "code",
      "execution_count": 19,
      "metadata": {
        "colab": {
          "base_uri": "https://localhost:8080/"
        },
        "id": "BRA3Rkp6DOtv",
        "outputId": "1d18a5e5-9f9c-49b9-b666-4ec57011b5e7"
      },
      "outputs": [
        {
          "output_type": "execute_result",
          "data": {
            "text/plain": [
              "<tf.Tensor: shape=(60, 60, 40, 1), dtype=float32, numpy=\n",
              "array([[[[0.71428573],\n",
              "         [0.71428573],\n",
              "         [0.71428573],\n",
              "         ...,\n",
              "         [0.71428573],\n",
              "         [0.71428573],\n",
              "         [0.71428573]],\n",
              "\n",
              "        [[0.71428573],\n",
              "         [0.71428573],\n",
              "         [0.71428573],\n",
              "         ...,\n",
              "         [0.71428573],\n",
              "         [0.71428573],\n",
              "         [0.71428573]],\n",
              "\n",
              "        [[0.71428573],\n",
              "         [0.71428573],\n",
              "         [0.71428573],\n",
              "         ...,\n",
              "         [0.71428573],\n",
              "         [0.71428573],\n",
              "         [0.71428573]],\n",
              "\n",
              "        ...,\n",
              "\n",
              "        [[0.71428573],\n",
              "         [0.71428573],\n",
              "         [0.71428573],\n",
              "         ...,\n",
              "         [0.71428573],\n",
              "         [0.71428573],\n",
              "         [0.71428573]],\n",
              "\n",
              "        [[0.71428573],\n",
              "         [0.71428573],\n",
              "         [0.71428573],\n",
              "         ...,\n",
              "         [0.71428573],\n",
              "         [0.71428573],\n",
              "         [0.71428573]],\n",
              "\n",
              "        [[0.71428573],\n",
              "         [0.71428573],\n",
              "         [0.71428573],\n",
              "         ...,\n",
              "         [0.71428573],\n",
              "         [0.71428573],\n",
              "         [0.71428573]]],\n",
              "\n",
              "\n",
              "       [[[0.71428573],\n",
              "         [0.71428573],\n",
              "         [0.71428573],\n",
              "         ...,\n",
              "         [0.71428573],\n",
              "         [0.71428573],\n",
              "         [0.71428573]],\n",
              "\n",
              "        [[0.71428573],\n",
              "         [0.71428573],\n",
              "         [0.71428573],\n",
              "         ...,\n",
              "         [0.71428573],\n",
              "         [0.71428573],\n",
              "         [0.71428573]],\n",
              "\n",
              "        [[0.71428573],\n",
              "         [0.71428573],\n",
              "         [0.71428573],\n",
              "         ...,\n",
              "         [0.71428573],\n",
              "         [0.71428573],\n",
              "         [0.71428573]],\n",
              "\n",
              "        ...,\n",
              "\n",
              "        [[0.71428573],\n",
              "         [0.71428573],\n",
              "         [0.71428573],\n",
              "         ...,\n",
              "         [0.71428573],\n",
              "         [0.71428573],\n",
              "         [0.71428573]],\n",
              "\n",
              "        [[0.71428573],\n",
              "         [0.71428573],\n",
              "         [0.71428573],\n",
              "         ...,\n",
              "         [0.71428573],\n",
              "         [0.71428573],\n",
              "         [0.71428573]],\n",
              "\n",
              "        [[0.71428573],\n",
              "         [0.71428573],\n",
              "         [0.71428573],\n",
              "         ...,\n",
              "         [0.71428573],\n",
              "         [0.71428573],\n",
              "         [0.71428573]]],\n",
              "\n",
              "\n",
              "       [[[0.71428573],\n",
              "         [0.71428573],\n",
              "         [0.71428573],\n",
              "         ...,\n",
              "         [0.71428573],\n",
              "         [0.71428573],\n",
              "         [0.71428573]],\n",
              "\n",
              "        [[0.71428573],\n",
              "         [0.71428573],\n",
              "         [0.71428573],\n",
              "         ...,\n",
              "         [0.71428573],\n",
              "         [0.71428573],\n",
              "         [0.71428573]],\n",
              "\n",
              "        [[0.71428573],\n",
              "         [0.71428573],\n",
              "         [0.71428573],\n",
              "         ...,\n",
              "         [0.71428573],\n",
              "         [0.71428573],\n",
              "         [0.71428573]],\n",
              "\n",
              "        ...,\n",
              "\n",
              "        [[0.71428573],\n",
              "         [0.71428573],\n",
              "         [0.71428573],\n",
              "         ...,\n",
              "         [0.71428573],\n",
              "         [0.71428573],\n",
              "         [0.71428573]],\n",
              "\n",
              "        [[0.71428573],\n",
              "         [0.71428573],\n",
              "         [0.71428573],\n",
              "         ...,\n",
              "         [0.71428573],\n",
              "         [0.71428573],\n",
              "         [0.71428573]],\n",
              "\n",
              "        [[0.71428573],\n",
              "         [0.71428573],\n",
              "         [0.71428573],\n",
              "         ...,\n",
              "         [0.71428573],\n",
              "         [0.71428573],\n",
              "         [0.71428573]]],\n",
              "\n",
              "\n",
              "       ...,\n",
              "\n",
              "\n",
              "       [[[0.71428573],\n",
              "         [0.71428573],\n",
              "         [0.71428573],\n",
              "         ...,\n",
              "         [0.71428573],\n",
              "         [0.71428573],\n",
              "         [0.71428573]],\n",
              "\n",
              "        [[0.71428573],\n",
              "         [0.71428573],\n",
              "         [0.71428573],\n",
              "         ...,\n",
              "         [0.71428573],\n",
              "         [0.71428573],\n",
              "         [0.71428573]],\n",
              "\n",
              "        [[0.71428573],\n",
              "         [0.71428573],\n",
              "         [0.71428573],\n",
              "         ...,\n",
              "         [0.71428573],\n",
              "         [0.71428573],\n",
              "         [0.71428573]],\n",
              "\n",
              "        ...,\n",
              "\n",
              "        [[0.71428573],\n",
              "         [0.71428573],\n",
              "         [0.71428573],\n",
              "         ...,\n",
              "         [0.71428573],\n",
              "         [0.71428573],\n",
              "         [0.71428573]],\n",
              "\n",
              "        [[0.71428573],\n",
              "         [0.71428573],\n",
              "         [0.71428573],\n",
              "         ...,\n",
              "         [0.71428573],\n",
              "         [0.71428573],\n",
              "         [0.71428573]],\n",
              "\n",
              "        [[0.71428573],\n",
              "         [0.71428573],\n",
              "         [0.71428573],\n",
              "         ...,\n",
              "         [0.71428573],\n",
              "         [0.71428573],\n",
              "         [0.71428573]]],\n",
              "\n",
              "\n",
              "       [[[0.71428573],\n",
              "         [0.71428573],\n",
              "         [0.71428573],\n",
              "         ...,\n",
              "         [0.71428573],\n",
              "         [0.71428573],\n",
              "         [0.71428573]],\n",
              "\n",
              "        [[0.71428573],\n",
              "         [0.71428573],\n",
              "         [0.71428573],\n",
              "         ...,\n",
              "         [0.71428573],\n",
              "         [0.71428573],\n",
              "         [0.71428573]],\n",
              "\n",
              "        [[0.71428573],\n",
              "         [0.71428573],\n",
              "         [0.71428573],\n",
              "         ...,\n",
              "         [0.71428573],\n",
              "         [0.71428573],\n",
              "         [0.71428573]],\n",
              "\n",
              "        ...,\n",
              "\n",
              "        [[0.71428573],\n",
              "         [0.71428573],\n",
              "         [0.71428573],\n",
              "         ...,\n",
              "         [0.71428573],\n",
              "         [0.71428573],\n",
              "         [0.71428573]],\n",
              "\n",
              "        [[0.71428573],\n",
              "         [0.71428573],\n",
              "         [0.71428573],\n",
              "         ...,\n",
              "         [0.71428573],\n",
              "         [0.71428573],\n",
              "         [0.71428573]],\n",
              "\n",
              "        [[0.71428573],\n",
              "         [0.71428573],\n",
              "         [0.71428573],\n",
              "         ...,\n",
              "         [0.71428573],\n",
              "         [0.71428573],\n",
              "         [0.71428573]]],\n",
              "\n",
              "\n",
              "       [[[0.71428573],\n",
              "         [0.71428573],\n",
              "         [0.71428573],\n",
              "         ...,\n",
              "         [0.71428573],\n",
              "         [0.71428573],\n",
              "         [0.71428573]],\n",
              "\n",
              "        [[0.71428573],\n",
              "         [0.71428573],\n",
              "         [0.71428573],\n",
              "         ...,\n",
              "         [0.71428573],\n",
              "         [0.71428573],\n",
              "         [0.71428573]],\n",
              "\n",
              "        [[0.71428573],\n",
              "         [0.71428573],\n",
              "         [0.71428573],\n",
              "         ...,\n",
              "         [0.71428573],\n",
              "         [0.71428573],\n",
              "         [0.71428573]],\n",
              "\n",
              "        ...,\n",
              "\n",
              "        [[0.71428573],\n",
              "         [0.71428573],\n",
              "         [0.71428573],\n",
              "         ...,\n",
              "         [0.71428573],\n",
              "         [0.71428573],\n",
              "         [0.71428573]],\n",
              "\n",
              "        [[0.71428573],\n",
              "         [0.71428573],\n",
              "         [0.71428573],\n",
              "         ...,\n",
              "         [0.71428573],\n",
              "         [0.71428573],\n",
              "         [0.71428573]],\n",
              "\n",
              "        [[0.71428573],\n",
              "         [0.71428573],\n",
              "         [0.71428573],\n",
              "         ...,\n",
              "         [0.71428573],\n",
              "         [0.71428573],\n",
              "         [0.71428573]]]], dtype=float32)>"
            ]
          },
          "metadata": {},
          "execution_count": 19
        }
      ],
      "source": [
        "scan_output[0]"
      ]
    },
    {
      "cell_type": "code",
      "execution_count": 20,
      "metadata": {
        "colab": {
          "base_uri": "https://localhost:8080/"
        },
        "id": "CmJkRmB-DRP0",
        "outputId": "ccc0966d-56d8-436f-d2cf-e33a2ec11735"
      },
      "outputs": [
        {
          "output_type": "execute_result",
          "data": {
            "text/plain": [
              "<tf.Tensor: shape=(60, 60, 40, 1), dtype=float32, numpy=\n",
              "array([[[[0.71428573],\n",
              "         [0.71428573],\n",
              "         [0.71428573],\n",
              "         ...,\n",
              "         [0.71428573],\n",
              "         [0.71428573],\n",
              "         [0.71428573]],\n",
              "\n",
              "        [[0.71428573],\n",
              "         [0.71428573],\n",
              "         [0.71428573],\n",
              "         ...,\n",
              "         [0.71428573],\n",
              "         [0.71428573],\n",
              "         [0.71428573]],\n",
              "\n",
              "        [[0.71428573],\n",
              "         [0.71428573],\n",
              "         [0.71428573],\n",
              "         ...,\n",
              "         [0.71428573],\n",
              "         [0.71428573],\n",
              "         [0.71428573]],\n",
              "\n",
              "        ...,\n",
              "\n",
              "        [[0.71428573],\n",
              "         [0.71428573],\n",
              "         [0.71428573],\n",
              "         ...,\n",
              "         [0.71428573],\n",
              "         [0.71428573],\n",
              "         [0.71428573]],\n",
              "\n",
              "        [[0.71428573],\n",
              "         [0.71428573],\n",
              "         [0.71428573],\n",
              "         ...,\n",
              "         [0.71428573],\n",
              "         [0.71428573],\n",
              "         [0.71428573]],\n",
              "\n",
              "        [[0.71428573],\n",
              "         [0.71428573],\n",
              "         [0.71428573],\n",
              "         ...,\n",
              "         [0.71428573],\n",
              "         [0.71428573],\n",
              "         [0.71428573]]],\n",
              "\n",
              "\n",
              "       [[[0.71428573],\n",
              "         [0.71428573],\n",
              "         [0.71428573],\n",
              "         ...,\n",
              "         [0.71428573],\n",
              "         [0.71428573],\n",
              "         [0.71428573]],\n",
              "\n",
              "        [[0.71428573],\n",
              "         [0.71428573],\n",
              "         [0.71428573],\n",
              "         ...,\n",
              "         [0.71428573],\n",
              "         [0.71428573],\n",
              "         [0.71428573]],\n",
              "\n",
              "        [[0.71428573],\n",
              "         [0.71428573],\n",
              "         [0.71428573],\n",
              "         ...,\n",
              "         [0.71428573],\n",
              "         [0.71428573],\n",
              "         [0.71428573]],\n",
              "\n",
              "        ...,\n",
              "\n",
              "        [[0.71428573],\n",
              "         [0.71428573],\n",
              "         [0.71428573],\n",
              "         ...,\n",
              "         [0.71428573],\n",
              "         [0.71428573],\n",
              "         [0.71428573]],\n",
              "\n",
              "        [[0.71428573],\n",
              "         [0.71428573],\n",
              "         [0.71428573],\n",
              "         ...,\n",
              "         [0.71428573],\n",
              "         [0.71428573],\n",
              "         [0.71428573]],\n",
              "\n",
              "        [[0.71428573],\n",
              "         [0.71428573],\n",
              "         [0.71428573],\n",
              "         ...,\n",
              "         [0.71428573],\n",
              "         [0.71428573],\n",
              "         [0.71428573]]],\n",
              "\n",
              "\n",
              "       [[[0.71428573],\n",
              "         [0.71428573],\n",
              "         [0.71428573],\n",
              "         ...,\n",
              "         [0.71428573],\n",
              "         [0.71428573],\n",
              "         [0.71428573]],\n",
              "\n",
              "        [[0.71428573],\n",
              "         [0.71428573],\n",
              "         [0.71428573],\n",
              "         ...,\n",
              "         [0.71428573],\n",
              "         [0.71428573],\n",
              "         [0.71428573]],\n",
              "\n",
              "        [[0.71428573],\n",
              "         [0.71428573],\n",
              "         [0.71428573],\n",
              "         ...,\n",
              "         [0.71428573],\n",
              "         [0.71428573],\n",
              "         [0.71428573]],\n",
              "\n",
              "        ...,\n",
              "\n",
              "        [[0.71428573],\n",
              "         [0.71428573],\n",
              "         [0.71428573],\n",
              "         ...,\n",
              "         [0.71428573],\n",
              "         [0.71428573],\n",
              "         [0.71428573]],\n",
              "\n",
              "        [[0.71428573],\n",
              "         [0.71428573],\n",
              "         [0.71428573],\n",
              "         ...,\n",
              "         [0.71428573],\n",
              "         [0.71428573],\n",
              "         [0.71428573]],\n",
              "\n",
              "        [[0.71428573],\n",
              "         [0.71428573],\n",
              "         [0.71428573],\n",
              "         ...,\n",
              "         [0.71428573],\n",
              "         [0.71428573],\n",
              "         [0.71428573]]],\n",
              "\n",
              "\n",
              "       ...,\n",
              "\n",
              "\n",
              "       [[[0.71428573],\n",
              "         [0.71428573],\n",
              "         [0.71428573],\n",
              "         ...,\n",
              "         [0.71428573],\n",
              "         [0.71428573],\n",
              "         [0.71428573]],\n",
              "\n",
              "        [[0.71428573],\n",
              "         [0.71428573],\n",
              "         [0.71428573],\n",
              "         ...,\n",
              "         [0.71428573],\n",
              "         [0.71428573],\n",
              "         [0.71428573]],\n",
              "\n",
              "        [[0.71428573],\n",
              "         [0.71428573],\n",
              "         [0.71428573],\n",
              "         ...,\n",
              "         [0.71428573],\n",
              "         [0.71428573],\n",
              "         [0.71428573]],\n",
              "\n",
              "        ...,\n",
              "\n",
              "        [[0.71428573],\n",
              "         [0.71428573],\n",
              "         [0.71428573],\n",
              "         ...,\n",
              "         [0.71428573],\n",
              "         [0.71428573],\n",
              "         [0.71428573]],\n",
              "\n",
              "        [[0.71428573],\n",
              "         [0.71428573],\n",
              "         [0.71428573],\n",
              "         ...,\n",
              "         [0.71428573],\n",
              "         [0.71428573],\n",
              "         [0.71428573]],\n",
              "\n",
              "        [[0.71428573],\n",
              "         [0.71428573],\n",
              "         [0.71428573],\n",
              "         ...,\n",
              "         [0.71428573],\n",
              "         [0.71428573],\n",
              "         [0.71428573]]],\n",
              "\n",
              "\n",
              "       [[[0.71428573],\n",
              "         [0.71428573],\n",
              "         [0.71428573],\n",
              "         ...,\n",
              "         [0.71428573],\n",
              "         [0.71428573],\n",
              "         [0.71428573]],\n",
              "\n",
              "        [[0.71428573],\n",
              "         [0.71428573],\n",
              "         [0.71428573],\n",
              "         ...,\n",
              "         [0.71428573],\n",
              "         [0.71428573],\n",
              "         [0.71428573]],\n",
              "\n",
              "        [[0.71428573],\n",
              "         [0.71428573],\n",
              "         [0.71428573],\n",
              "         ...,\n",
              "         [0.71428573],\n",
              "         [0.71428573],\n",
              "         [0.71428573]],\n",
              "\n",
              "        ...,\n",
              "\n",
              "        [[0.71428573],\n",
              "         [0.71428573],\n",
              "         [0.71428573],\n",
              "         ...,\n",
              "         [0.71428573],\n",
              "         [0.71428573],\n",
              "         [0.71428573]],\n",
              "\n",
              "        [[0.71428573],\n",
              "         [0.71428573],\n",
              "         [0.71428573],\n",
              "         ...,\n",
              "         [0.71428573],\n",
              "         [0.71428573],\n",
              "         [0.71428573]],\n",
              "\n",
              "        [[0.71428573],\n",
              "         [0.71428573],\n",
              "         [0.71428573],\n",
              "         ...,\n",
              "         [0.71428573],\n",
              "         [0.71428573],\n",
              "         [0.71428573]]],\n",
              "\n",
              "\n",
              "       [[[0.71428573],\n",
              "         [0.71428573],\n",
              "         [0.71428573],\n",
              "         ...,\n",
              "         [0.71428573],\n",
              "         [0.71428573],\n",
              "         [0.71428573]],\n",
              "\n",
              "        [[0.71428573],\n",
              "         [0.71428573],\n",
              "         [0.71428573],\n",
              "         ...,\n",
              "         [0.71428573],\n",
              "         [0.71428573],\n",
              "         [0.71428573]],\n",
              "\n",
              "        [[0.71428573],\n",
              "         [0.71428573],\n",
              "         [0.71428573],\n",
              "         ...,\n",
              "         [0.71428573],\n",
              "         [0.71428573],\n",
              "         [0.71428573]],\n",
              "\n",
              "        ...,\n",
              "\n",
              "        [[0.71428573],\n",
              "         [0.71428573],\n",
              "         [0.71428573],\n",
              "         ...,\n",
              "         [0.71428573],\n",
              "         [0.71428573],\n",
              "         [0.71428573]],\n",
              "\n",
              "        [[0.71428573],\n",
              "         [0.71428573],\n",
              "         [0.71428573],\n",
              "         ...,\n",
              "         [0.71428573],\n",
              "         [0.71428573],\n",
              "         [0.71428573]],\n",
              "\n",
              "        [[0.71428573],\n",
              "         [0.71428573],\n",
              "         [0.71428573],\n",
              "         ...,\n",
              "         [0.71428573],\n",
              "         [0.71428573],\n",
              "         [0.71428573]]]], dtype=float32)>"
            ]
          },
          "metadata": {},
          "execution_count": 20
        }
      ],
      "source": [
        "scan_output[0]"
      ]
    },
    {
      "cell_type": "code",
      "execution_count": 21,
      "metadata": {
        "colab": {
          "base_uri": "https://localhost:8080/"
        },
        "id": "nCSmRqleDUfJ",
        "outputId": "dfb13914-d96d-44fb-9fa8-6a10b46ad0c7"
      },
      "outputs": [
        {
          "output_type": "execute_result",
          "data": {
            "text/plain": [
              "171"
            ]
          },
          "metadata": {},
          "execution_count": 21
        }
      ],
      "source": [
        "len(scan_output)"
      ]
    },
    {
      "cell_type": "code",
      "execution_count": 22,
      "metadata": {
        "id": "YitLgQ6l9VB6"
      },
      "outputs": [],
      "source": [
        "def load_data(paths, label=0):\n",
        "\n",
        "    # Create space for the data\n",
        "    scans = np.empty(shape=(len(paths), 60, 60, 30, 1), dtype='float32') # This is from our prior knowledge\n",
        "    labels = np.empty(shape=(len(paths),), dtype='int32')\n",
        "\n",
        "    # Iterate through the paths and load the scan\n",
        "    for i, path in tqdm(enumerate(paths), desc=\"Loading\"):\n",
        "\n",
        "        # load the Scan\n",
        "        scan_1 = load_nii(path)\n",
        "\n",
        "        # Process Scan\n",
        "        pr_scan = process_scan(scan_1, desired_dims=(60,60,30))\n",
        "\n",
        "        # Append Data\n",
        "        scans[i] = pr_scan\n",
        "        labels[i] = label\n",
        "\n",
        "    # Return Data\n",
        "    return scans, labels"
      ]
    },
    {
      "cell_type": "code",
      "execution_count": 23,
      "metadata": {
        "colab": {
          "base_uri": "https://localhost:8080/"
        },
        "id": "RA91dVYd9Wb8",
        "outputId": "b02e13d2-f65b-4d51-bfe8-bd9fa4fd7ac1"
      },
      "outputs": [
        {
          "output_type": "stream",
          "name": "stderr",
          "text": [
            "Loading: 171it [00:30,  5.58it/s]\n"
          ]
        }
      ],
      "source": [
        "all_pr_scans, all_labels = load_data(Images)"
      ]
    },
    {
      "cell_type": "code",
      "execution_count": 24,
      "metadata": {
        "colab": {
          "base_uri": "https://localhost:8080/"
        },
        "id": "gx_4cwMZ-KVa",
        "outputId": "4e3f2b43-5786-4184-fe04-9926d21496d7"
      },
      "outputs": [
        {
          "output_type": "stream",
          "name": "stdout",
          "text": [
            "             ID  PT500  PT4000\n",
            "0    smwp1_0001   25.0    72.5\n",
            "1    smwp1_0002    5.0    10.0\n",
            "2    smwp1_0003    5.0    45.0\n",
            "3    smwp1_0004    5.0    15.0\n",
            "4    smwp1_0005    2.5    62.5\n",
            "..          ...    ...     ...\n",
            "166  smwp1_0167    0.0    27.5\n",
            "167  smwp1_0168   37.5     2.5\n",
            "168  smwp1_0169    7.5    10.0\n",
            "169  smwp1_0170    0.0    -2.5\n",
            "170  smwp1_0171   10.0    57.5\n",
            "\n",
            "[171 rows x 3 columns]\n"
          ]
        }
      ],
      "source": [
        "import pandas as pd\n",
        "\n",
        "# Load the CSV file as a Pandas DataFrame\n",
        "df_1 = pd.read_csv('/content/drive/MyDrive/dataset.csv')\n",
        "\n",
        "# Print the DataFrame\n",
        "print(df_1)"
      ]
    },
    {
      "cell_type": "code",
      "execution_count": 25,
      "metadata": {
        "colab": {
          "base_uri": "https://localhost:8080/"
        },
        "id": "snW5eYrC-fcg",
        "outputId": "74c48d94-d30f-4d07-da02-840ea19922de"
      },
      "outputs": [
        {
          "output_type": "stream",
          "name": "stdout",
          "text": [
            "0      25.0\n",
            "1       5.0\n",
            "2       5.0\n",
            "3       5.0\n",
            "4       2.5\n",
            "       ... \n",
            "166     0.0\n",
            "167    37.5\n",
            "168     7.5\n",
            "169     0.0\n",
            "170    10.0\n",
            "Name: PT500, Length: 171, dtype: float64\n"
          ]
        }
      ],
      "source": [
        "# Access the 'PT500' column using iloc\n",
        "pt500_column = df_1.iloc[:, 1]\n",
        "\n",
        "# Print the 'PT500' column\n",
        "print(pt500_column)"
      ]
    },
    {
      "cell_type": "code",
      "execution_count": 26,
      "metadata": {
        "colab": {
          "base_uri": "https://localhost:8080/"
        },
        "id": "v7fJSG3aJKQJ",
        "outputId": "def8f7df-a594-4c84-9443-1b99dbbdae4a"
      },
      "outputs": [
        {
          "output_type": "stream",
          "name": "stdout",
          "text": [
            "0      72.5\n",
            "1      10.0\n",
            "2      45.0\n",
            "3      15.0\n",
            "4      62.5\n",
            "       ... \n",
            "166    27.5\n",
            "167     2.5\n",
            "168    10.0\n",
            "169    -2.5\n",
            "170    57.5\n",
            "Name: PT4000, Length: 171, dtype: float64\n"
          ]
        }
      ],
      "source": [
        "pt4000_column = df_1.iloc[:, -1]\n",
        "\n",
        "# Print the 'PT500' column\n",
        "print(pt4000_column)"
      ]
    },
    {
      "cell_type": "code",
      "execution_count": 27,
      "metadata": {
        "id": "pnn0bQshJVgD"
      },
      "outputs": [],
      "source": [
        "df_pt4000 = pd.DataFrame({'PT4000': pt4000_column})"
      ]
    },
    {
      "cell_type": "code",
      "execution_count": 28,
      "metadata": {
        "id": "qbU5Ed8o-TYr"
      },
      "outputs": [],
      "source": [
        "df_pt500 = pd.DataFrame({'PT500': pt500_column})"
      ]
    },
    {
      "cell_type": "code",
      "execution_count": 29,
      "metadata": {
        "colab": {
          "base_uri": "https://localhost:8080/"
        },
        "id": "hG1Dntte--7N",
        "outputId": "e06f5816-c26b-4466-aa8c-302f10bfc8bd"
      },
      "outputs": [
        {
          "output_type": "stream",
          "name": "stdout",
          "text": [
            "Requirement already satisfied: scikit-learn in /usr/local/lib/python3.10/dist-packages (1.2.2)\n",
            "Requirement already satisfied: numpy>=1.17.3 in /usr/local/lib/python3.10/dist-packages (from scikit-learn) (1.25.2)\n",
            "Requirement already satisfied: scipy>=1.3.2 in /usr/local/lib/python3.10/dist-packages (from scikit-learn) (1.11.4)\n",
            "Requirement already satisfied: joblib>=1.1.1 in /usr/local/lib/python3.10/dist-packages (from scikit-learn) (1.4.0)\n",
            "Requirement already satisfied: threadpoolctl>=2.0.0 in /usr/local/lib/python3.10/dist-packages (from scikit-learn) (3.4.0)\n"
          ]
        }
      ],
      "source": [
        "!pip install scikit-learn"
      ]
    },
    {
      "cell_type": "code",
      "execution_count": 30,
      "metadata": {
        "id": "fVULX_WM-_JP"
      },
      "outputs": [],
      "source": [
        "from sklearn.model_selection import train_test_split\n",
        "from sklearn.svm import SVR"
      ]
    },
    {
      "cell_type": "code",
      "source": [
        "C_value = 100\n",
        "model = SVR(kernel='rbf',C = C_value ) #kernel is rbf"
      ],
      "metadata": {
        "id": "woNGXO-FvMDL"
      },
      "execution_count": 66,
      "outputs": []
    },
    {
      "cell_type": "code",
      "execution_count": 52,
      "metadata": {
        "id": "v1GTZx4rI-OD"
      },
      "outputs": [],
      "source": [
        "# Split the data into training and testing sets\n",
        "X_train, X_test, y_train, y_test = train_test_split(all_pr_scans, df_pt500, test_size=0.2, random_state=42)\n"
      ]
    },
    {
      "cell_type": "code",
      "execution_count": 53,
      "metadata": {
        "colab": {
          "base_uri": "https://localhost:8080/"
        },
        "id": "5hYfsn1pIqY7",
        "outputId": "8c697789-0482-4a08-c700-4a65dc40940d"
      },
      "outputs": [
        {
          "output_type": "stream",
          "name": "stdout",
          "text": [
            "X_train shape: (136, 60, 60, 30, 1)\n",
            "y_train shape: (136, 1)\n"
          ]
        }
      ],
      "source": [
        "print(f\"X_train shape: {X_train.shape}\")\n",
        "print(f\"y_train shape: {y_train.shape}\")"
      ]
    },
    {
      "cell_type": "code",
      "execution_count": 54,
      "metadata": {
        "colab": {
          "base_uri": "https://localhost:8080/"
        },
        "id": "4Jr1Ul7XIqmO",
        "outputId": "d99462fa-f2e4-41b3-e2ec-d0ce08a64c81"
      },
      "outputs": [
        {
          "output_type": "stream",
          "name": "stdout",
          "text": [
            "Number of features: 60\n",
            "Number of samples: 136\n"
          ]
        }
      ],
      "source": [
        "print(f\"Number of features: {X_train.shape[1]}\")\n",
        "print(f\"Number of samples: {X_train.shape[0]}\")"
      ]
    },
    {
      "cell_type": "code",
      "execution_count": 55,
      "metadata": {
        "id": "uJCFjxvkIq2-"
      },
      "outputs": [],
      "source": [
        "X_train_reshaped = X_train.reshape((X_train.shape[0], -1))\n",
        "X_test_reshaped = X_test.reshape((X_test.shape[0], -1))"
      ]
    },
    {
      "cell_type": "code",
      "execution_count": 56,
      "metadata": {
        "colab": {
          "base_uri": "https://localhost:8080/",
          "height": 130
        },
        "id": "wEJJ6TVpIrl7",
        "outputId": "dff18f4d-ea11-4430-ed04-702ff6230abd"
      },
      "outputs": [
        {
          "output_type": "stream",
          "name": "stderr",
          "text": [
            "/usr/local/lib/python3.10/dist-packages/sklearn/utils/validation.py:1143: DataConversionWarning: A column-vector y was passed when a 1d array was expected. Please change the shape of y to (n_samples, ), for example using ravel().\n",
            "  y = column_or_1d(y, warn=True)\n"
          ]
        },
        {
          "output_type": "execute_result",
          "data": {
            "text/plain": [
              "SVR(C=100)"
            ],
            "text/html": [
              "<style>#sk-container-id-4 {color: black;background-color: white;}#sk-container-id-4 pre{padding: 0;}#sk-container-id-4 div.sk-toggleable {background-color: white;}#sk-container-id-4 label.sk-toggleable__label {cursor: pointer;display: block;width: 100%;margin-bottom: 0;padding: 0.3em;box-sizing: border-box;text-align: center;}#sk-container-id-4 label.sk-toggleable__label-arrow:before {content: \"▸\";float: left;margin-right: 0.25em;color: #696969;}#sk-container-id-4 label.sk-toggleable__label-arrow:hover:before {color: black;}#sk-container-id-4 div.sk-estimator:hover label.sk-toggleable__label-arrow:before {color: black;}#sk-container-id-4 div.sk-toggleable__content {max-height: 0;max-width: 0;overflow: hidden;text-align: left;background-color: #f0f8ff;}#sk-container-id-4 div.sk-toggleable__content pre {margin: 0.2em;color: black;border-radius: 0.25em;background-color: #f0f8ff;}#sk-container-id-4 input.sk-toggleable__control:checked~div.sk-toggleable__content {max-height: 200px;max-width: 100%;overflow: auto;}#sk-container-id-4 input.sk-toggleable__control:checked~label.sk-toggleable__label-arrow:before {content: \"▾\";}#sk-container-id-4 div.sk-estimator input.sk-toggleable__control:checked~label.sk-toggleable__label {background-color: #d4ebff;}#sk-container-id-4 div.sk-label input.sk-toggleable__control:checked~label.sk-toggleable__label {background-color: #d4ebff;}#sk-container-id-4 input.sk-hidden--visually {border: 0;clip: rect(1px 1px 1px 1px);clip: rect(1px, 1px, 1px, 1px);height: 1px;margin: -1px;overflow: hidden;padding: 0;position: absolute;width: 1px;}#sk-container-id-4 div.sk-estimator {font-family: monospace;background-color: #f0f8ff;border: 1px dotted black;border-radius: 0.25em;box-sizing: border-box;margin-bottom: 0.5em;}#sk-container-id-4 div.sk-estimator:hover {background-color: #d4ebff;}#sk-container-id-4 div.sk-parallel-item::after {content: \"\";width: 100%;border-bottom: 1px solid gray;flex-grow: 1;}#sk-container-id-4 div.sk-label:hover label.sk-toggleable__label {background-color: #d4ebff;}#sk-container-id-4 div.sk-serial::before {content: \"\";position: absolute;border-left: 1px solid gray;box-sizing: border-box;top: 0;bottom: 0;left: 50%;z-index: 0;}#sk-container-id-4 div.sk-serial {display: flex;flex-direction: column;align-items: center;background-color: white;padding-right: 0.2em;padding-left: 0.2em;position: relative;}#sk-container-id-4 div.sk-item {position: relative;z-index: 1;}#sk-container-id-4 div.sk-parallel {display: flex;align-items: stretch;justify-content: center;background-color: white;position: relative;}#sk-container-id-4 div.sk-item::before, #sk-container-id-4 div.sk-parallel-item::before {content: \"\";position: absolute;border-left: 1px solid gray;box-sizing: border-box;top: 0;bottom: 0;left: 50%;z-index: -1;}#sk-container-id-4 div.sk-parallel-item {display: flex;flex-direction: column;z-index: 1;position: relative;background-color: white;}#sk-container-id-4 div.sk-parallel-item:first-child::after {align-self: flex-end;width: 50%;}#sk-container-id-4 div.sk-parallel-item:last-child::after {align-self: flex-start;width: 50%;}#sk-container-id-4 div.sk-parallel-item:only-child::after {width: 0;}#sk-container-id-4 div.sk-dashed-wrapped {border: 1px dashed gray;margin: 0 0.4em 0.5em 0.4em;box-sizing: border-box;padding-bottom: 0.4em;background-color: white;}#sk-container-id-4 div.sk-label label {font-family: monospace;font-weight: bold;display: inline-block;line-height: 1.2em;}#sk-container-id-4 div.sk-label-container {text-align: center;}#sk-container-id-4 div.sk-container {/* jupyter's `normalize.less` sets `[hidden] { display: none; }` but bootstrap.min.css set `[hidden] { display: none !important; }` so we also need the `!important` here to be able to override the default hidden behavior on the sphinx rendered scikit-learn.org. See: https://github.com/scikit-learn/scikit-learn/issues/21755 */display: inline-block !important;position: relative;}#sk-container-id-4 div.sk-text-repr-fallback {display: none;}</style><div id=\"sk-container-id-4\" class=\"sk-top-container\"><div class=\"sk-text-repr-fallback\"><pre>SVR(C=100)</pre><b>In a Jupyter environment, please rerun this cell to show the HTML representation or trust the notebook. <br />On GitHub, the HTML representation is unable to render, please try loading this page with nbviewer.org.</b></div><div class=\"sk-container\" hidden><div class=\"sk-item\"><div class=\"sk-estimator sk-toggleable\"><input class=\"sk-toggleable__control sk-hidden--visually\" id=\"sk-estimator-id-4\" type=\"checkbox\" checked><label for=\"sk-estimator-id-4\" class=\"sk-toggleable__label sk-toggleable__label-arrow\">SVR</label><div class=\"sk-toggleable__content\"><pre>SVR(C=100)</pre></div></div></div></div></div>"
            ]
          },
          "metadata": {},
          "execution_count": 56
        }
      ],
      "source": [
        "X_train_transposed = X_train.transpose((0, 2, 3, 1, 4)).reshape((X_train.shape[0], -1))\n",
        "X_test_transposed = X_test.transpose((0, 2, 3, 1, 4)).reshape((X_test.shape[0], -1))\n",
        "\n",
        "model.fit(X_train_transposed, y_train)"
      ]
    },
    {
      "cell_type": "code",
      "execution_count": 57,
      "metadata": {
        "colab": {
          "base_uri": "https://localhost:8080/"
        },
        "id": "wUxUi5flIx1J",
        "outputId": "cf06c7e1-8a7d-4019-ade9-72dc829db897"
      },
      "outputs": [
        {
          "output_type": "stream",
          "name": "stdout",
          "text": [
            "R2 score: 0.025829899759697073\n"
          ]
        }
      ],
      "source": [
        "#accuracy of model\n",
        "from sklearn.metrics import r2_score\n",
        "y_pred = model.predict(X_test_transposed)\n",
        "r2 = r2_score(y_test, y_pred)\n",
        "print(\"R2 score:\", r2)\n"
      ]
    },
    {
      "cell_type": "code",
      "source": [
        "from sklearn.metrics import mean_absolute_error\n",
        "from sklearn.metrics import mean_squared_error\n",
        "# Calculate the mean absolute error\n",
        "mae = mean_absolute_error(y_test, y_pred)\n",
        "mse = mean_squared_error(y_test, y_pred)\n",
        "\n",
        "# Print the mean absolute error\n",
        "print(\"Mean absolute error:\", mae)\n",
        "print(\"Mean sqaured error:\", mse)"
      ],
      "metadata": {
        "colab": {
          "base_uri": "https://localhost:8080/"
        },
        "id": "I53JGSyIwCFI",
        "outputId": "69452205-16f0-4e85-8915-9951bf215c14"
      },
      "execution_count": 99,
      "outputs": [
        {
          "output_type": "stream",
          "name": "stdout",
          "text": [
            "Mean absolute error: 8.815030126460291\n",
            "Mean sqaured error: 123.43132790493715\n"
          ]
        }
      ]
    },
    {
      "cell_type": "code",
      "source": [
        "import matplotlib.pyplot as plt\n",
        "\n",
        "# Create a scatter plot with predicted values on the x-axis and true values on the y-axis\n",
        "plt.scatter(y_test, y_pred)\n",
        "\n",
        "# Add labels and title\n",
        "plt.xlabel('True Values')\n",
        "plt.ylabel('Predicted Values')\n",
        "plt.title('Model fitted with RBF kernel(PT500)')\n",
        "\n",
        "# Show the plot\n",
        "plt.show()"
      ],
      "metadata": {
        "colab": {
          "base_uri": "https://localhost:8080/",
          "height": 472
        },
        "id": "3oDzAmDx1G_I",
        "outputId": "f0e36df4-1085-481e-edcc-9e652b3acf41"
      },
      "execution_count": 93,
      "outputs": [
        {
          "output_type": "display_data",
          "data": {
            "text/plain": [
              "<Figure size 640x480 with 1 Axes>"
            ],
            "image/png": "[encoded data removed]"
          },
          "metadata": {}
        }
      ]
    },
    {
      "cell_type": "code",
      "execution_count": 58,
      "metadata": {
        "id": "Mb4zeODfJiY1"
      },
      "outputs": [],
      "source": [
        "X1_train, X1_test, y1_train, y1_test = train_test_split(all_pr_scans, df_pt4000, test_size=0.2, random_state=42)"
      ]
    },
    {
      "cell_type": "code",
      "execution_count": 59,
      "metadata": {
        "colab": {
          "base_uri": "https://localhost:8080/"
        },
        "id": "keaUXjyUJtSY",
        "outputId": "aefc7e9d-a0e3-487b-d7c9-98982c1068c9"
      },
      "outputs": [
        {
          "output_type": "stream",
          "name": "stdout",
          "text": [
            "X_train shape: (136, 60, 60, 30, 1)\n",
            "y_train shape: (136, 1)\n"
          ]
        }
      ],
      "source": [
        "print(f\"X_train shape: {X1_train.shape}\")\n",
        "print(f\"y_train shape: {y1_train.shape}\")"
      ]
    },
    {
      "cell_type": "code",
      "execution_count": 60,
      "metadata": {
        "colab": {
          "base_uri": "https://localhost:8080/"
        },
        "id": "8C6RjqvZJyx1",
        "outputId": "b30c2e8f-d006-4fea-c794-4cf176151b82"
      },
      "outputs": [
        {
          "output_type": "stream",
          "name": "stdout",
          "text": [
            "Number of features: 60\n",
            "Number of samples: 136\n"
          ]
        }
      ],
      "source": [
        "print(f\"Number of features: {X1_train.shape[1]}\")\n",
        "print(f\"Number of samples: {X1_train.shape[0]}\")"
      ]
    },
    {
      "cell_type": "code",
      "execution_count": 61,
      "metadata": {
        "colab": {
          "base_uri": "https://localhost:8080/"
        },
        "id": "L35Cf3CuJzzk",
        "outputId": "ec9adc36-b3fb-4dbc-f673-384d0120e2c6"
      },
      "outputs": [
        {
          "output_type": "stream",
          "name": "stderr",
          "text": [
            "/usr/local/lib/python3.10/dist-packages/sklearn/utils/validation.py:1143: DataConversionWarning: A column-vector y was passed when a 1d array was expected. Please change the shape of y to (n_samples, ), for example using ravel().\n",
            "  y = column_or_1d(y, warn=True)\n"
          ]
        },
        {
          "output_type": "stream",
          "name": "stdout",
          "text": [
            "R2 score: -0.7775926349617175\n"
          ]
        }
      ],
      "source": [
        "X1_train_reshaped = X1_train.reshape((X1_train.shape[0], -1))\n",
        "X1_test_reshaped = X1_test.reshape((X1_test.shape[0], -1))\n",
        "\n",
        "X1_train_transposed = X1_train.transpose((0, 2, 3, 1, 4)).reshape((X1_train.shape[0], -1))\n",
        "X1_test_transposed = X1_test.transpose((0, 2, 3, 1, 4)).reshape((X1_test.shape[0], -1))\n",
        "\n",
        "model.fit(X1_train_transposed, y_train)\n",
        "\n",
        "from sklearn.metrics import r2_score\n",
        "y1_pred = model.predict(X1_test_transposed)\n",
        "r2_1 = r2_score(y1_test, y1_pred)\n",
        "print(\"R2 score:\", r2_1)"
      ]
    },
    {
      "cell_type": "code",
      "source": [
        "from sklearn.metrics import mean_absolute_error\n",
        "from sklearn.metrics import mean_squared_error\n",
        "\n",
        "# Calculate the mean absolute error\n",
        "mae_1 = mean_absolute_error(y1_test, y1_pred)\n",
        "mse_1 = mean_squared_error(y1_test, y1_pred)\n",
        "\n",
        "# Print the mean absolute error\n",
        "print(\"Mean absolute error:\", mae_1)\n",
        "print(\"Mean squared error:\", mse_1)"
      ],
      "metadata": {
        "colab": {
          "base_uri": "https://localhost:8080/"
        },
        "id": "TjmNIttnwS2H",
        "outputId": "14afe8c7-d704-4051-da93-9cc430888137"
      },
      "execution_count": 101,
      "outputs": [
        {
          "output_type": "stream",
          "name": "stdout",
          "text": [
            "Mean absolute error: 20.47183576365283\n",
            "Mean squared error: 742.1993411975873\n"
          ]
        }
      ]
    },
    {
      "cell_type": "code",
      "source": [
        "import matplotlib.pyplot as plt\n",
        "\n",
        "# Create a scatter plot with predicted values on the x-axis and true values on the y-axis\n",
        "plt.scatter(y1_test, y1_pred)\n",
        "\n",
        "# Add labels and title\n",
        "plt.xlabel('True Values')\n",
        "plt.ylabel('Predicted Values')\n",
        "plt.title('Model fitted with RBF kernel(PT4000)')\n",
        "\n",
        "# Show the plot\n",
        "plt.show()"
      ],
      "metadata": {
        "colab": {
          "base_uri": "https://localhost:8080/",
          "height": 472
        },
        "id": "OYCJl21j04lK",
        "outputId": "db8b8c65-1fc9-4a8c-8120-44d5f3a3001f"
      },
      "execution_count": 92,
      "outputs": [
        {
          "output_type": "display_data",
          "data": {
            "text/plain": [
              "<Figure size 640x480 with 1 Axes>"
            ],
            "image/png": "[encoded data removed]"
          },
          "metadata": {}
        }
      ]
    },
    {
      "cell_type": "code",
      "source": [
        "#Use another model of SVR where kernel is linear : PT500 values\n",
        "C_value = 100\n",
        "model_1 = SVR(kernel='linear', C = C_value)"
      ],
      "metadata": {
        "id": "fAG1Ifj0wlNu"
      },
      "execution_count": 75,
      "outputs": []
    },
    {
      "cell_type": "code",
      "source": [
        "X_train_transposed = X_train.transpose((0, 2, 3, 1, 4)).reshape((X_train.shape[0], -1))\n",
        "X_test_transposed = X_test.transpose((0, 2, 3, 1, 4)).reshape((X_test.shape[0], -1))\n",
        "\n",
        "model_1.fit(X_train_transposed, y_train)"
      ],
      "metadata": {
        "colab": {
          "base_uri": "https://localhost:8080/",
          "height": 130
        },
        "id": "8fas47aow7ax",
        "outputId": "e6aad46b-c332-4e35-e083-35ecb442c0e3"
      },
      "execution_count": 76,
      "outputs": [
        {
          "output_type": "stream",
          "name": "stderr",
          "text": [
            "/usr/local/lib/python3.10/dist-packages/sklearn/utils/validation.py:1143: DataConversionWarning: A column-vector y was passed when a 1d array was expected. Please change the shape of y to (n_samples, ), for example using ravel().\n",
            "  y = column_or_1d(y, warn=True)\n"
          ]
        },
        {
          "output_type": "execute_result",
          "data": {
            "text/plain": [
              "SVR(C=100, kernel='linear')"
            ],
            "text/html": [
              "<style>#sk-container-id-6 {color: black;background-color: white;}#sk-container-id-6 pre{padding: 0;}#sk-container-id-6 div.sk-toggleable {background-color: white;}#sk-container-id-6 label.sk-toggleable__label {cursor: pointer;display: block;width: 100%;margin-bottom: 0;padding: 0.3em;box-sizing: border-box;text-align: center;}#sk-container-id-6 label.sk-toggleable__label-arrow:before {content: \"▸\";float: left;margin-right: 0.25em;color: #696969;}#sk-container-id-6 label.sk-toggleable__label-arrow:hover:before {color: black;}#sk-container-id-6 div.sk-estimator:hover label.sk-toggleable__label-arrow:before {color: black;}#sk-container-id-6 div.sk-toggleable__content {max-height: 0;max-width: 0;overflow: hidden;text-align: left;background-color: #f0f8ff;}#sk-container-id-6 div.sk-toggleable__content pre {margin: 0.2em;color: black;border-radius: 0.25em;background-color: #f0f8ff;}#sk-container-id-6 input.sk-toggleable__control:checked~div.sk-toggleable__content {max-height: 200px;max-width: 100%;overflow: auto;}#sk-container-id-6 input.sk-toggleable__control:checked~label.sk-toggleable__label-arrow:before {content: \"▾\";}#sk-container-id-6 div.sk-estimator input.sk-toggleable__control:checked~label.sk-toggleable__label {background-color: #d4ebff;}#sk-container-id-6 div.sk-label input.sk-toggleable__control:checked~label.sk-toggleable__label {background-color: #d4ebff;}#sk-container-id-6 input.sk-hidden--visually {border: 0;clip: rect(1px 1px 1px 1px);clip: rect(1px, 1px, 1px, 1px);height: 1px;margin: -1px;overflow: hidden;padding: 0;position: absolute;width: 1px;}#sk-container-id-6 div.sk-estimator {font-family: monospace;background-color: #f0f8ff;border: 1px dotted black;border-radius: 0.25em;box-sizing: border-box;margin-bottom: 0.5em;}#sk-container-id-6 div.sk-estimator:hover {background-color: #d4ebff;}#sk-container-id-6 div.sk-parallel-item::after {content: \"\";width: 100%;border-bottom: 1px solid gray;flex-grow: 1;}#sk-container-id-6 div.sk-label:hover label.sk-toggleable__label {background-color: #d4ebff;}#sk-container-id-6 div.sk-serial::before {content: \"\";position: absolute;border-left: 1px solid gray;box-sizing: border-box;top: 0;bottom: 0;left: 50%;z-index: 0;}#sk-container-id-6 div.sk-serial {display: flex;flex-direction: column;align-items: center;background-color: white;padding-right: 0.2em;padding-left: 0.2em;position: relative;}#sk-container-id-6 div.sk-item {position: relative;z-index: 1;}#sk-container-id-6 div.sk-parallel {display: flex;align-items: stretch;justify-content: center;background-color: white;position: relative;}#sk-container-id-6 div.sk-item::before, #sk-container-id-6 div.sk-parallel-item::before {content: \"\";position: absolute;border-left: 1px solid gray;box-sizing: border-box;top: 0;bottom: 0;left: 50%;z-index: -1;}#sk-container-id-6 div.sk-parallel-item {display: flex;flex-direction: column;z-index: 1;position: relative;background-color: white;}#sk-container-id-6 div.sk-parallel-item:first-child::after {align-self: flex-end;width: 50%;}#sk-container-id-6 div.sk-parallel-item:last-child::after {align-self: flex-start;width: 50%;}#sk-container-id-6 div.sk-parallel-item:only-child::after {width: 0;}#sk-container-id-6 div.sk-dashed-wrapped {border: 1px dashed gray;margin: 0 0.4em 0.5em 0.4em;box-sizing: border-box;padding-bottom: 0.4em;background-color: white;}#sk-container-id-6 div.sk-label label {font-family: monospace;font-weight: bold;display: inline-block;line-height: 1.2em;}#sk-container-id-6 div.sk-label-container {text-align: center;}#sk-container-id-6 div.sk-container {/* jupyter's `normalize.less` sets `[hidden] { display: none; }` but bootstrap.min.css set `[hidden] { display: none !important; }` so we also need the `!important` here to be able to override the default hidden behavior on the sphinx rendered scikit-learn.org. See: https://github.com/scikit-learn/scikit-learn/issues/21755 */display: inline-block !important;position: relative;}#sk-container-id-6 div.sk-text-repr-fallback {display: none;}</style><div id=\"sk-container-id-6\" class=\"sk-top-container\"><div class=\"sk-text-repr-fallback\"><pre>SVR(C=100, kernel=&#x27;linear&#x27;)</pre><b>In a Jupyter environment, please rerun this cell to show the HTML representation or trust the notebook. <br />On GitHub, the HTML representation is unable to render, please try loading this page with nbviewer.org.</b></div><div class=\"sk-container\" hidden><div class=\"sk-item\"><div class=\"sk-estimator sk-toggleable\"><input class=\"sk-toggleable__control sk-hidden--visually\" id=\"sk-estimator-id-6\" type=\"checkbox\" checked><label for=\"sk-estimator-id-6\" class=\"sk-toggleable__label sk-toggleable__label-arrow\">SVR</label><div class=\"sk-toggleable__content\"><pre>SVR(C=100, kernel=&#x27;linear&#x27;)</pre></div></div></div></div></div>"
            ]
          },
          "metadata": {},
          "execution_count": 76
        }
      ]
    },
    {
      "cell_type": "code",
      "source": [
        "#accuracy of model\n",
        "from sklearn.metrics import r2_score\n",
        "y_lr_pred = model_1.predict(X_test_transposed)\n",
        "r2_lr = r2_score(y_test, y_lr_pred)\n",
        "print(\"R2 score:\", r2_lr)\n"
      ],
      "metadata": {
        "colab": {
          "base_uri": "https://localhost:8080/"
        },
        "id": "RDIjTyd_w_XK",
        "outputId": "cd7fc36c-d6c2-4c29-fcad-025e9dcd749f"
      },
      "execution_count": 77,
      "outputs": [
        {
          "output_type": "stream",
          "name": "stdout",
          "text": [
            "R2 score: -0.012021866694413852\n"
          ]
        }
      ]
    },
    {
      "cell_type": "code",
      "source": [
        "from sklearn.metrics import mean_absolute_error\n",
        "from sklearn.metrics import mean_squared_error\n",
        "\n",
        "# Calculate the mean absolute error\n",
        "mae_500 = mean_absolute_error(y_test, y_lr_pred)\n",
        "mse_500 = mean_squared_error(y_test, y_lr_pred)\n",
        "# Print the mean absolute error\n",
        "print(\"Mean absolute error:\", mae_500)\n",
        "print(\"Mean sqaured error:\", mse_500)"
      ],
      "metadata": {
        "colab": {
          "base_uri": "https://localhost:8080/"
        },
        "id": "HzTeCb7xxats",
        "outputId": "e11eab44-89a5-479c-d015-84e3a9ef53af"
      },
      "execution_count": 103,
      "outputs": [
        {
          "output_type": "stream",
          "name": "stdout",
          "text": [
            "Mean absolute error: 8.920875529971505\n",
            "Mean sqaured error: 128.22730121167893\n"
          ]
        }
      ]
    },
    {
      "cell_type": "code",
      "source": [
        "import matplotlib.pyplot as plt\n",
        "\n",
        "# Create a scatter plot with predicted values on the x-axis and true values on the y-axis\n",
        "plt.scatter(y_test, y_lr_pred)\n",
        "\n",
        "# Add labels and title\n",
        "plt.xlabel('True Values')\n",
        "plt.ylabel('Predicted Values')\n",
        "plt.title('Model fitted with linear kernel(Pt500)')\n",
        "\n",
        "# Show the plot\n",
        "plt.show()"
      ],
      "metadata": {
        "colab": {
          "base_uri": "https://localhost:8080/",
          "height": 472
        },
        "id": "8Q7Mv08M0V2D",
        "outputId": "e4c8b326-4737-4d1c-9a2d-dfbfe899f955"
      },
      "execution_count": 94,
      "outputs": [
        {
          "output_type": "display_data",
          "data": {
            "text/plain": [
              "<Figure size 640x480 with 1 Axes>"
            ],
            "image/png": "[encoded data removed]"
          },
          "metadata": {}
        }
      ]
    },
    {
      "cell_type": "code",
      "source": [
        "#For pt_4000 values"
      ],
      "metadata": {
        "id": "HR5oDSwJxthE"
      },
      "execution_count": 79,
      "outputs": []
    },
    {
      "cell_type": "code",
      "source": [
        "X1_train_reshaped = X1_train.reshape((X1_train.shape[0], -1))\n",
        "X1_test_reshaped = X1_test.reshape((X1_test.shape[0], -1))\n",
        "\n",
        "X1_train_transposed = X1_train.transpose((0, 2, 3, 1, 4)).reshape((X1_train.shape[0], -1))\n",
        "X1_test_transposed = X1_test.transpose((0, 2, 3, 1, 4)).reshape((X1_test.shape[0], -1))\n",
        "\n",
        "model_1.fit(X1_train_transposed, y_train)\n",
        "\n",
        "from sklearn.metrics import r2_score\n",
        "y1_lr_pred = model_1.predict(X1_test_transposed)\n",
        "r_lr_pt4000 = r2_score(y1_test, y1_lr_pred)\n",
        "print(\"R2 score:\", r_lr_pt4000)\n",
        "\n",
        "# Calculate the mean absolute error\n",
        "mae_4000 = mean_absolute_error(y1_test, y1_lr_pred)\n",
        "mse_4000 = mean_squared_error(y1_test, y1_lr_pred)\n",
        "\n",
        "# Print the mean absolute error\n",
        "print(\"Mean absolute error:\", mae_4000)\n",
        "print(\"Mean squared error:\", mse_4000)"
      ],
      "metadata": {
        "colab": {
          "base_uri": "https://localhost:8080/"
        },
        "id": "Ab1cx6mHx1ET",
        "outputId": "25eac23d-a586-4f31-8b31-3219ae401383"
      },
      "execution_count": 104,
      "outputs": [
        {
          "output_type": "stream",
          "name": "stderr",
          "text": [
            "/usr/local/lib/python3.10/dist-packages/sklearn/utils/validation.py:1143: DataConversionWarning: A column-vector y was passed when a 1d array was expected. Please change the shape of y to (n_samples, ), for example using ravel().\n",
            "  y = column_or_1d(y, warn=True)\n"
          ]
        },
        {
          "output_type": "stream",
          "name": "stdout",
          "text": [
            "R2 score: -0.8314913071505559\n",
            "Mean absolute error: 21.215157685987652\n",
            "Mean squared error: 764.7036867957801\n"
          ]
        }
      ]
    },
    {
      "cell_type": "code",
      "source": [
        "import matplotlib.pyplot as plt\n",
        "\n",
        "# Create a scatter plot with predicted values on the x-axis and true values on the y-axis\n",
        "plt.scatter(y1_test, y1_lr_pred)\n",
        "\n",
        "# Add labels and title\n",
        "plt.xlabel('True Values')\n",
        "plt.ylabel('Predicted Values')\n",
        "plt.title('Model fitted with linear kernel(Pt4000)')\n",
        "\n",
        "# Show the plot\n",
        "plt.show()"
      ],
      "metadata": {
        "colab": {
          "base_uri": "https://localhost:8080/",
          "height": 472
        },
        "id": "FLXBWSOozH3r",
        "outputId": "2d467cfc-924b-4d58-dbbb-f3dd4a334eb5"
      },
      "execution_count": 95,
      "outputs": [
        {
          "output_type": "display_data",
          "data": {
            "text/plain": [
              "<Figure size 640x480 with 1 Axes>"
            ],
            "image/png": "[encoded data removed]"
          },
          "metadata": {}
        }
      ]
    }
  ],
  "metadata": {
    "colab": {
      "provenance": []
    },
    "kernelspec": {
      "display_name": "Python 3",
      "name": "python3"
    },
    "language_info": {
      "name": "python"
    }
  },
  "nbformat": 4,
  "nbformat_minor": 0
}